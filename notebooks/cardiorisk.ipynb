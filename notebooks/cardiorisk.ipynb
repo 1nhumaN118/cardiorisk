{
 "cells": [
  {
   "cell_type": "markdown",
   "id": "6cb51240",
   "metadata": {},
   "source": [
    "#  CardioRisk Baseline\n",
    "\n",
    "This notebook builds a simple cardiovascular risk prediction model using the Framingham dataset."
   ]
  },
  {
   "cell_type": "code",
   "execution_count": 1,
   "id": "03dbb22f",
   "metadata": {},
   "outputs": [
    {
     "ename": "ModuleNotFoundError",
     "evalue": "No module named 'pandas'",
     "output_type": "error",
     "traceback": [
      "\u001b[31m---------------------------------------------------------------------------\u001b[39m",
      "\u001b[31mModuleNotFoundError\u001b[39m                       Traceback (most recent call last)",
      "\u001b[36mCell\u001b[39m\u001b[36m \u001b[39m\u001b[32mIn[1]\u001b[39m\u001b[32m, line 2\u001b[39m\n\u001b[32m      1\u001b[39m \u001b[38;5;66;03m#  Import libraries\u001b[39;00m\n\u001b[32m----> \u001b[39m\u001b[32m2\u001b[39m \u001b[38;5;28;01mimport\u001b[39;00m\u001b[38;5;250m \u001b[39m\u001b[34;01mpandas\u001b[39;00m\u001b[38;5;250m \u001b[39m\u001b[38;5;28;01mas\u001b[39;00m\u001b[38;5;250m \u001b[39m\u001b[34;01mpd\u001b[39;00m\n\u001b[32m      3\u001b[39m \u001b[38;5;28;01mimport\u001b[39;00m\u001b[38;5;250m \u001b[39m\u001b[34;01mmatplotlib\u001b[39;00m\u001b[34;01m.\u001b[39;00m\u001b[34;01mpyplot\u001b[39;00m\u001b[38;5;250m \u001b[39m\u001b[38;5;28;01mas\u001b[39;00m\u001b[38;5;250m \u001b[39m\u001b[34;01mplt\u001b[39;00m\n\u001b[32m      4\u001b[39m \u001b[38;5;28;01mimport\u001b[39;00m\u001b[38;5;250m \u001b[39m\u001b[34;01mseaborn\u001b[39;00m\u001b[38;5;250m \u001b[39m\u001b[38;5;28;01mas\u001b[39;00m\u001b[38;5;250m \u001b[39m\u001b[34;01msns\u001b[39;00m\n",
      "\u001b[31mModuleNotFoundError\u001b[39m: No module named 'pandas'"
     ]
    }
   ],
   "source": [
    "\n",
    "#  Import libraries\n",
    "import pandas as pd\n",
    "import matplotlib.pyplot as plt\n",
    "import seaborn as sns\n",
    "import numpy as np\n",
    "from sklearn.model_selection import train_test_split\n",
    "from sklearn.metrics import roc_auc_score, confusion_matrix, ConfusionMatrixDisplay\n",
    "from xgboost import XGBClassifier\n",
    "import shap\n"
   ]
  },
  {
   "cell_type": "code",
   "execution_count": null,
   "id": "91f9f9c6",
   "metadata": {},
   "outputs": [],
   "source": [
    "\n",
    "#  Load and inspect the dataset\n",
    "df = pd.read_csv(\"../data/framingham.csv\")\n",
    "print(df.shape)\n",
    "df.head()\n"
   ]
  },
  {
   "cell_type": "code",
   "execution_count": null,
   "id": "ff832663",
   "metadata": {},
   "outputs": [],
   "source": [
    "\n",
    "#  Drop rows with missing values (basic cleanup)\n",
    "df = df.dropna()\n",
    "print(df.shape)\n"
   ]
  },
  {
   "cell_type": "markdown",
   "id": "056dbdc3",
   "metadata": {},
   "source": [
    "##  Exploratory Data Analysis"
   ]
  },
  {
   "cell_type": "code",
   "execution_count": null,
   "id": "85ee4ee6",
   "metadata": {},
   "outputs": [],
   "source": [
    "\n",
    "# Target class distribution\n",
    "sns.countplot(x='TenYearCHD', data=df)\n",
    "plt.title(\"CHD Outcome Distribution (0 = No, 1 = Yes)\")\n",
    "plt.show()\n"
   ]
  },
  {
   "cell_type": "code",
   "execution_count": null,
   "id": "485d3ea5",
   "metadata": {},
   "outputs": [],
   "source": [
    "\n",
    "# Age distribution across CHD status\n",
    "sns.boxplot(x='TenYearCHD', y='age', data=df)\n",
    "plt.title(\"Age Distribution by CHD Outcome\")\n",
    "plt.show()\n"
   ]
  },
  {
   "cell_type": "code",
   "execution_count": null,
   "id": "a9728215",
   "metadata": {},
   "outputs": [],
   "source": [
    "\n",
    "# Correlation heatmap\n",
    "plt.figure(figsize=(12, 8))\n",
    "sns.heatmap(df.corr(), annot=True, fmt=\".2f\", cmap=\"coolwarm\")\n",
    "plt.title(\"Correlation Heatmap\")\n",
    "plt.show()\n"
   ]
  },
  {
   "cell_type": "markdown",
   "id": "b07e2b1e",
   "metadata": {},
   "source": [
    "##  Model Training and Evaluation"
   ]
  },
  {
   "cell_type": "code",
   "execution_count": null,
   "id": "8e9e14b4",
   "metadata": {},
   "outputs": [],
   "source": [
    "\n",
    "# Prepare feature matrix X and target vector y\n",
    "X = df.drop(\"TenYearCHD\", axis=1)\n",
    "y = df[\"TenYearCHD\"]\n",
    "\n",
    "# Train-test split\n",
    "X_train, X_test, y_train, y_test = train_test_split(X, y, test_size=0.2, stratify=y, random_state=42)\n"
   ]
  },
  {
   "cell_type": "code",
   "execution_count": null,
   "id": "b2449f8d",
   "metadata": {},
   "outputs": [],
   "source": [
    "\n",
    "# Initialize and train XGBoost model\n",
    "model = XGBClassifier(use_label_encoder=False, eval_metric='auc')\n",
    "model.fit(X_train, y_train)\n"
   ]
  },
  {
   "cell_type": "code",
   "execution_count": null,
   "id": "56af09e9",
   "metadata": {},
   "outputs": [],
   "source": [
    "\n",
    "# Predict probabilities and calculate AUC\n",
    "y_pred_proba = model.predict_proba(X_test)[:, 1]\n",
    "auc = roc_auc_score(y_test, y_pred_proba)\n",
    "print(f\"AUC Score: {auc:.4f}\")\n"
   ]
  },
  {
   "cell_type": "code",
   "execution_count": null,
   "id": "fdacbe5c",
   "metadata": {},
   "outputs": [],
   "source": [
    "\n",
    "# Confusion matrix using default threshold 0.5\n",
    "y_pred = (y_pred_proba > 0.5).astype(int)\n",
    "ConfusionMatrixDisplay.from_predictions(y_test, y_pred)\n",
    "plt.title(\"Confusion Matrix\")\n",
    "plt.show()\n"
   ]
  },
  {
   "cell_type": "markdown",
   "id": "40fd99d8",
   "metadata": {},
   "source": [
    "##  Model Explainability with SHAP"
   ]
  },
  {
   "cell_type": "code",
   "execution_count": null,
   "id": "6097f39a",
   "metadata": {},
   "outputs": [],
   "source": [
    "\n",
    "# Initialize SHAP explainer and calculate values\n",
    "explainer = shap.Explainer(model, X_train)\n",
    "shap_values = explainer(X_test)\n"
   ]
  },
  {
   "cell_type": "code",
   "execution_count": null,
   "id": "972ecdce",
   "metadata": {},
   "outputs": [],
   "source": [
    "\n",
    "# Summary plot for feature importance\n",
    "shap.summary_plot(shap_values, X_test)\n"
   ]
  },
  {
   "cell_type": "code",
   "execution_count": null,
   "id": "a86a3316",
   "metadata": {},
   "outputs": [],
   "source": [
    "\n",
    "# Waterfall plot for the first prediction\n",
    "shap.plots.waterfall(shap_values[0])\n"
   ]
  }
 ],
 "metadata": {
  "kernelspec": {
   "display_name": ".venv",
   "language": "python",
   "name": "python3"
  },
  "language_info": {
   "codemirror_mode": {
    "name": "ipython",
    "version": 3
   },
   "file_extension": ".py",
   "mimetype": "text/x-python",
   "name": "python",
   "nbconvert_exporter": "python",
   "pygments_lexer": "ipython3",
   "version": "3.13.3"
  }
 },
 "nbformat": 4,
 "nbformat_minor": 5
}
