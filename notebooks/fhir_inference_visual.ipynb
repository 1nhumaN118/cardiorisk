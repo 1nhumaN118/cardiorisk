{
 "cells": [
  {
   "cell_type": "markdown",
   "id": "2691659d",
   "metadata": {},
   "source": [
    "#  FHIR Observation Inference + Visualization\n",
    "This notebook loads FHIR Observation JSON files, transforms them into model-ready format, runs predictions using a tuned XGBoost model, and visualizes feature importance."
   ]
  },
  {
   "cell_type": "code",
   "execution_count": 1,
   "id": "1416a56a",
   "metadata": {},
   "outputs": [],
   "source": [
    "import os\n",
    "import json\n",
    "import pandas as pd\n",
    "import xgboost as xgb\n",
    "import joblib\n",
    "from sklearn.impute import SimpleImputer\n",
    "import matplotlib.pyplot as plt"
   ]
  },
  {
   "cell_type": "code",
   "execution_count": 10,
   "id": "5d41ba2f",
   "metadata": {},
   "outputs": [],
   "source": [
    "# Path setup\n",
    "obs_dir = \"../data/observations\"\n",
    "model_path = \"../src/models/tuned_xgb_fhir.pkl\"\n",
    "feature_order_path = \"/mnt/data/cardiorisk_2505/src/models/fhir_feature_order.pkl\"\n",
    "\n",
    "booster = joblib.load(model_path)\n",
    "feature_order = joblib.load(feature_order_path)\n"
   ]
  },
  {
   "cell_type": "code",
   "execution_count": 11,
   "id": "2c0f8a13",
   "metadata": {},
   "outputs": [],
   "source": [
    "# Read and parse FHIR Observation JSONs\n",
    "records = []\n",
    "for fname in os.listdir(obs_dir):\n",
    "    with open(os.path.join(obs_dir, fname)) as f:\n",
    "        obs = json.load(f)\n",
    "        patient_id = obs[\"subject\"][\"reference\"]\n",
    "        code = obs[\"code\"][\"coding\"][0][\"code\"]\n",
    "        value = obs[\"valueQuantity\"][\"value\"]\n",
    "        records.append({\"patient\": patient_id, \"code\": code, \"value\": value})\n",
    "\n",
    "df_obs = pd.DataFrame(records)\n",
    "\n",
    "# Map LOINC codes to model features\n",
    "loinc_map = {\n",
    "    \"30525-0\": \"age\",\n",
    "    \"8480-6\": \"sysBP\",\n",
    "    \"8462-4\": \"diaBP\",\n",
    "    \"2093-3\": \"totChol\",\n",
    "    \"2345-7\": \"glucose\",\n",
    "    \"8867-4\": \"heartRate\"\n",
    "}\n",
    "df_obs[\"feature\"] = df_obs[\"code\"].map(loinc_map)\n"
   ]
  },
  {
   "cell_type": "code",
   "execution_count": 13,
   "id": "2526c12a",
   "metadata": {},
   "outputs": [
    {
     "data": {
      "text/html": [
       "<div>\n",
       "<style scoped>\n",
       "    .dataframe tbody tr th:only-of-type {\n",
       "        vertical-align: middle;\n",
       "    }\n",
       "\n",
       "    .dataframe tbody tr th {\n",
       "        vertical-align: top;\n",
       "    }\n",
       "\n",
       "    .dataframe thead th {\n",
       "        text-align: right;\n",
       "    }\n",
       "</style>\n",
       "<table border=\"1\" class=\"dataframe\">\n",
       "  <thead>\n",
       "    <tr style=\"text-align: right;\">\n",
       "      <th>feature</th>\n",
       "      <th>patient</th>\n",
       "      <th>age</th>\n",
       "      <th>sysBP</th>\n",
       "      <th>diaBP</th>\n",
       "      <th>totChol</th>\n",
       "      <th>glucose</th>\n",
       "      <th>predicted_risk</th>\n",
       "    </tr>\n",
       "  </thead>\n",
       "  <tbody>\n",
       "    <tr>\n",
       "      <th>0</th>\n",
       "      <td>Patient-1000</td>\n",
       "      <td>39.0</td>\n",
       "      <td>106.0</td>\n",
       "      <td>70.0</td>\n",
       "      <td>195.0</td>\n",
       "      <td>77.0</td>\n",
       "      <td>0.103579</td>\n",
       "    </tr>\n",
       "    <tr>\n",
       "      <th>1</th>\n",
       "      <td>Patient-1001</td>\n",
       "      <td>46.0</td>\n",
       "      <td>121.0</td>\n",
       "      <td>81.0</td>\n",
       "      <td>250.0</td>\n",
       "      <td>76.0</td>\n",
       "      <td>0.125071</td>\n",
       "    </tr>\n",
       "    <tr>\n",
       "      <th>2</th>\n",
       "      <td>Patient-1002</td>\n",
       "      <td>48.0</td>\n",
       "      <td>127.5</td>\n",
       "      <td>80.0</td>\n",
       "      <td>245.0</td>\n",
       "      <td>70.0</td>\n",
       "      <td>0.135434</td>\n",
       "    </tr>\n",
       "  </tbody>\n",
       "</table>\n",
       "</div>"
      ],
      "text/plain": [
       "feature       patient   age  sysBP  diaBP  totChol  glucose  predicted_risk\n",
       "0        Patient-1000  39.0  106.0   70.0    195.0     77.0        0.103579\n",
       "1        Patient-1001  46.0  121.0   81.0    250.0     76.0        0.125071\n",
       "2        Patient-1002  48.0  127.5   80.0    245.0     70.0        0.135434"
      ]
     },
     "execution_count": 13,
     "metadata": {},
     "output_type": "execute_result"
    }
   ],
   "source": [
    "# Pivot to patient-feature matrix\n",
    "df_feat = df_obs.pivot(index=\"patient\", columns=\"feature\", values=\"value\").reindex(columns=feature_order)\n",
    "\n",
    "# Handle missing values\n",
    "imputer = SimpleImputer(strategy=\"mean\")\n",
    "X = imputer.fit_transform(df_feat)\n",
    "\n",
    "# Predict with tuned model\n",
    "dmatrix = xgb.DMatrix(X, feature_names=feature_order)\n",
    "y_pred = booster.predict(dmatrix)\n",
    "\n",
    "df_feat[\"predicted_risk\"] = y_pred\n",
    "df_feat.reset_index(inplace=True)\n",
    "df_feat.to_csv(\"../output/fhir_inference_results.csv\", index=False)\n",
    "df_feat.head()\n"
   ]
  },
  {
   "cell_type": "code",
   "execution_count": 14,
   "id": "271a9e7a",
   "metadata": {},
   "outputs": [
    {
     "data": {
      "text/plain": [
       "<Figure size 800x400 with 0 Axes>"
      ]
     },
     "metadata": {},
     "output_type": "display_data"
    },
    {
     "data": {
      "image/png": "[encoded data removed]",
      "text/plain": [
       "<Figure size 640x480 with 1 Axes>"
      ]
     },
     "metadata": {},
     "output_type": "display_data"
    }
   ],
   "source": [
    "# Fallback visual: Feature Importance by Gain\n",
    "importances = booster.get_score(importance_type=\"gain\")\n",
    "imp_df = pd.DataFrame(importances.items(), columns=[\"feature\", \"importance\"]).sort_values(by=\"importance\", ascending=False)\n",
    "\n",
    "# Plot\n",
    "plt.figure(figsize=(8, 4))\n",
    "imp_df.set_index(\"feature\").plot.bar(legend=False)\n",
    "plt.title(\"Feature Importance (Gain)\")\n",
    "plt.tight_layout()\n",
    "plt.savefig(\"../output/feature_importance_fallback.png\")\n",
    "plt.show()\n"
   ]
  }
 ],
 "metadata": {
  "kernelspec": {
   "display_name": ".venv",
   "language": "python",
   "name": "python3"
  },
  "language_info": {
   "codemirror_mode": {
    "name": "ipython",
    "version": 3
   },
   "file_extension": ".py",
   "mimetype": "text/x-python",
   "name": "python",
   "nbconvert_exporter": "python",
   "pygments_lexer": "ipython3",
   "version": "3.13.3"
  }
 },
 "nbformat": 4,
 "nbformat_minor": 5
}
