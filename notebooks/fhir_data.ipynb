{
 "cells": [
  {
   "cell_type": "markdown",
   "id": "0c6985b7",
   "metadata": {},
   "source": [
    "#  FHIR Data Simulation from Framingham Dataset\n",
    "This notebook converts sample Framingham-style cardiovascular data into FHIR-compliant Observation JSON files."
   ]
  },
  {
   "cell_type": "code",
   "execution_count": 16,
   "id": "92fe2be9",
   "metadata": {},
   "outputs": [],
   "source": [
    "import os\n",
    "import json\n",
    "import pandas as pd\n",
    "from datetime import datetime"
   ]
  },
  {
   "cell_type": "code",
   "execution_count": 17,
   "id": "29656faf",
   "metadata": {},
   "outputs": [],
   "source": [
    "# Load Framingham data from user's path (assumed content structure)\n",
    "framingham_csv = \"../data/framingham.csv\"\n",
    "df = pd.read_csv(framingham_csv)\n"
   ]
  },
  {
   "cell_type": "code",
   "execution_count": 18,
   "id": "ddde4196",
   "metadata": {},
   "outputs": [],
   "source": [
    "# Use a subset for demo\n",
    "df = df[[\"age\", \"sysBP\", \"diaBP\", \"totChol\", \"glucose\", \"heartRate\"]].head(3)\n",
    "\n",
    "# LOINC mappings\n",
    "loinc_map = {\n",
    "    \"age\": (\"30525-0\", \"Age calculated\", \"years\"),\n",
    "    \"sysBP\": (\"8480-6\", \"Systolic blood pressure\", \"mmHg\"),\n",
    "    \"diaBP\": (\"8462-4\", \"Diastolic blood pressure\", \"mmHg\"),\n",
    "    \"totChol\": (\"2093-3\", \"Total Cholesterol\", \"mg/dL\"),\n",
    "    \"glucose\": (\"2345-7\", \"Glucose\", \"mg/dL\"),\n",
    "    \"heartRate\": (\"8867-4\", \"Heart rate\", \"beats/minute\")\n",
    "}\n"
   ]
  },
  {
   "cell_type": "code",
   "execution_count": 22,
   "id": "2dd810c8",
   "metadata": {},
   "outputs": [],
   "source": [
    "# Output directory\n",
    "output_dir = \"../data/observations\"\n",
    "os.makedirs(output_dir, exist_ok=True)"
   ]
  },
  {
   "cell_type": "code",
   "execution_count": 24,
   "id": "3fa09fb0",
   "metadata": {},
   "outputs": [
    {
     "name": "stderr",
     "output_type": "stream",
     "text": [
      "C:\\Users\\tranv\\AppData\\Local\\Temp\\ipykernel_6320\\3928600074.py:23: DeprecationWarning: datetime.datetime.utcnow() is deprecated and scheduled for removal in a future version. Use timezone-aware objects to represent datetimes in UTC: datetime.datetime.now(datetime.UTC).\n",
      "  \"effectiveDateTime\": datetime.utcnow().isoformat(),\n"
     ]
    },
    {
     "data": {
      "text/plain": [
       "'../data/observations'"
      ]
     },
     "execution_count": 24,
     "metadata": {},
     "output_type": "execute_result"
    }
   ],
   "source": [
    "# Convert to FHIR JSON manually\n",
    "for idx, row in df.iterrows():\n",
    "    patient_id = f\"Patient-{1000 + idx}\"\n",
    "    for feature, value in row.items():\n",
    "        if pd.isna(value): continue\n",
    "        code, display, unit = loinc_map[feature]\n",
    "\n",
    "        obs = {\n",
    "            \"resourceType\": \"Observation\",\n",
    "            \"id\": f\"{patient_id}-{feature}\",\n",
    "            \"status\": \"final\",\n",
    "            \"code\": {\n",
    "                \"coding\": [{\n",
    "                    \"system\": \"http://loinc.org\",\n",
    "                    \"code\": code,\n",
    "                    \"display\": display\n",
    "                }],\n",
    "                \"text\": display\n",
    "            },\n",
    "            \"subject\": {\n",
    "                \"reference\": patient_id\n",
    "            },\n",
    "            \"effectiveDateTime\": datetime.utcnow().isoformat(),\n",
    "            \"valueQuantity\": {\n",
    "                \"value\": float(value),\n",
    "                \"unit\": unit,\n",
    "                \"system\": \"http://unitsofmeasure.org\",\n",
    "                \"code\": unit\n",
    "            }\n",
    "        }\n",
    "\n",
    "        out_path = os.path.join(output_dir, f\"{obs['id']}.json\")\n",
    "        with open(out_path, \"w\") as f:\n",
    "            json.dump(obs, f, indent=2)\n",
    "\n",
    "output_dir\n"
   ]
  }
 ],
 "metadata": {
  "kernelspec": {
   "display_name": ".venv",
   "language": "python",
   "name": "python3"
  },
  "language_info": {
   "codemirror_mode": {
    "name": "ipython",
    "version": 3
   },
   "file_extension": ".py",
   "mimetype": "text/x-python",
   "name": "python",
   "nbconvert_exporter": "python",
   "pygments_lexer": "ipython3",
   "version": "3.13.3"
  }
 },
 "nbformat": 4,
 "nbformat_minor": 5
}
