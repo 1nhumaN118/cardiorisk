{
 "cells": [
  {
   "cell_type": "markdown",
   "id": "b0cddf17",
   "metadata": {},
   "source": [
    "#  Streamlit CardioRisk App\n",
    "This notebook defines a simple interactive Streamlit app for predicting cardiovascular risk from clinical input."
   ]
  },
  {
   "cell_type": "code",
   "execution_count": 7,
   "id": "61c507e3",
   "metadata": {},
   "outputs": [],
   "source": [
    "import streamlit as st\n",
    "import xgboost as xgb\n",
    "import joblib\n",
    "import pandas as pd\n",
    "from sklearn.impute import SimpleImputer\n",
    "import os\n",
    "import shap\n",
    "import matplotlib.pyplot as plt"
   ]
  },
  {
   "cell_type": "code",
   "execution_count": 8,
   "id": "740c1beb",
   "metadata": {},
   "outputs": [],
   "source": [
    "# Load model and feature order\n",
    "MODEL_PATH = \"../src/models/tuned_xgb_fhir.pkl\"\n",
    "FEATURE_PATH = \"../src/models/fhir_feature_order.pkl\"\n",
    "\n",
    "booster = joblib.load(MODEL_PATH)\n",
    "feature_order = joblib.load(FEATURE_PATH)\n",
    "imputer = SimpleImputer(strategy=\"mean\")\n"
   ]
  },
  {
   "cell_type": "code",
   "execution_count": 9,
   "id": "0af12378",
   "metadata": {},
   "outputs": [
    {
     "name": "stderr",
     "output_type": "stream",
     "text": [
      "2025-05-15 15:12:17.061 Thread 'MainThread': missing ScriptRunContext! This warning can be ignored when running in bare mode.\n",
      "2025-05-15 15:12:17.063 Thread 'MainThread': missing ScriptRunContext! This warning can be ignored when running in bare mode.\n",
      "2025-05-15 15:12:17.064 Thread 'MainThread': missing ScriptRunContext! This warning can be ignored when running in bare mode.\n",
      "2025-05-15 15:12:17.065 Thread 'MainThread': missing ScriptRunContext! This warning can be ignored when running in bare mode.\n",
      "2025-05-15 15:12:17.066 Thread 'MainThread': missing ScriptRunContext! This warning can be ignored when running in bare mode.\n",
      "2025-05-15 15:12:17.067 Thread 'MainThread': missing ScriptRunContext! This warning can be ignored when running in bare mode.\n",
      "2025-05-15 15:12:17.068 Thread 'MainThread': missing ScriptRunContext! This warning can be ignored when running in bare mode.\n",
      "2025-05-15 15:12:17.070 Thread 'MainThread': missing ScriptRunContext! This warning can be ignored when running in bare mode.\n",
      "2025-05-15 15:12:17.071 Thread 'MainThread': missing ScriptRunContext! This warning can be ignored when running in bare mode.\n",
      "2025-05-15 15:12:17.072 Thread 'MainThread': missing ScriptRunContext! This warning can be ignored when running in bare mode.\n",
      "2025-05-15 15:12:17.074 Thread 'MainThread': missing ScriptRunContext! This warning can be ignored when running in bare mode.\n",
      "2025-05-15 15:12:17.076 Thread 'MainThread': missing ScriptRunContext! This warning can be ignored when running in bare mode.\n",
      "2025-05-15 15:12:17.077 Thread 'MainThread': missing ScriptRunContext! This warning can be ignored when running in bare mode.\n",
      "2025-05-15 15:12:17.078 Thread 'MainThread': missing ScriptRunContext! This warning can be ignored when running in bare mode.\n",
      "2025-05-15 15:12:17.079 Thread 'MainThread': missing ScriptRunContext! This warning can be ignored when running in bare mode.\n",
      "2025-05-15 15:12:17.080 Thread 'MainThread': missing ScriptRunContext! This warning can be ignored when running in bare mode.\n",
      "2025-05-15 15:12:17.081 Thread 'MainThread': missing ScriptRunContext! This warning can be ignored when running in bare mode.\n",
      "2025-05-15 15:12:17.083 Thread 'MainThread': missing ScriptRunContext! This warning can be ignored when running in bare mode.\n",
      "2025-05-15 15:12:17.084 Thread 'MainThread': missing ScriptRunContext! This warning can be ignored when running in bare mode.\n",
      "2025-05-15 15:12:17.084 Thread 'MainThread': missing ScriptRunContext! This warning can be ignored when running in bare mode.\n",
      "2025-05-15 15:12:17.086 Thread 'MainThread': missing ScriptRunContext! This warning can be ignored when running in bare mode.\n",
      "2025-05-15 15:12:17.087 Thread 'MainThread': missing ScriptRunContext! This warning can be ignored when running in bare mode.\n",
      "2025-05-15 15:12:17.088 Thread 'MainThread': missing ScriptRunContext! This warning can be ignored when running in bare mode.\n",
      "2025-05-15 15:12:17.089 Thread 'MainThread': missing ScriptRunContext! This warning can be ignored when running in bare mode.\n",
      "2025-05-15 15:12:17.091 Thread 'MainThread': missing ScriptRunContext! This warning can be ignored when running in bare mode.\n",
      "2025-05-15 15:12:17.093 Thread 'MainThread': missing ScriptRunContext! This warning can be ignored when running in bare mode.\n",
      "2025-05-15 15:12:17.094 Thread 'MainThread': missing ScriptRunContext! This warning can be ignored when running in bare mode.\n",
      "2025-05-15 15:12:17.095 Thread 'MainThread': missing ScriptRunContext! This warning can be ignored when running in bare mode.\n",
      "2025-05-15 15:12:17.096 Thread 'MainThread': missing ScriptRunContext! This warning can be ignored when running in bare mode.\n",
      "2025-05-15 15:12:17.097 Thread 'MainThread': missing ScriptRunContext! This warning can be ignored when running in bare mode.\n",
      "2025-05-15 15:12:17.098 Thread 'MainThread': missing ScriptRunContext! This warning can be ignored when running in bare mode.\n",
      "2025-05-15 15:12:17.100 Thread 'MainThread': missing ScriptRunContext! This warning can be ignored when running in bare mode.\n",
      "2025-05-15 15:12:17.101 Thread 'MainThread': missing ScriptRunContext! This warning can be ignored when running in bare mode.\n",
      "2025-05-15 15:12:17.102 Thread 'MainThread': missing ScriptRunContext! This warning can be ignored when running in bare mode.\n"
     ]
    }
   ],
   "source": [
    "st.title(\"CardioRisk Estimator\")\n",
    "st.markdown(\"Predict the Cardio-related risks in 10 years based on clinical biomarkers.\")\n",
    "\n",
    "# Input fields\n",
    "input_data = {}\n",
    "for feat in feature_order:\n",
    "    if feat == \"age\":\n",
    "        input_data[feat] = st.number_input(\"Age\", 18, 120, 55)\n",
    "    elif \"BP\" in feat:\n",
    "        input_data[feat] = st.number_input(feat, 50, 250, 120)\n",
    "    elif \"chol\" in feat.lower():\n",
    "        input_data[feat] = st.number_input(feat, 100, 400, 200)\n",
    "    else:\n",
    "        input_data[feat] = st.number_input(feat, 30, 300, 100)\n"
   ]
  },
  {
   "cell_type": "code",
   "execution_count": 12,
   "id": "521e0885",
   "metadata": {},
   "outputs": [
    {
     "name": "stderr",
     "output_type": "stream",
     "text": [
      "2025-05-15 15:12:47.708 Thread 'MainThread': missing ScriptRunContext! This warning can be ignored when running in bare mode.\n",
      "2025-05-15 15:12:47.709 Thread 'MainThread': missing ScriptRunContext! This warning can be ignored when running in bare mode.\n",
      "2025-05-15 15:12:47.711 Thread 'MainThread': missing ScriptRunContext! This warning can be ignored when running in bare mode.\n",
      "2025-05-15 15:12:47.711 Thread 'MainThread': missing ScriptRunContext! This warning can be ignored when running in bare mode.\n",
      "2025-05-15 15:12:47.712 Thread 'MainThread': missing ScriptRunContext! This warning can be ignored when running in bare mode.\n"
     ]
    }
   ],
   "source": [
    "if st.button(\"Predict\"):\n",
    "    df_input = pd.DataFrame([input_data])[feature_order]\n",
    "    df_input = pd.DataFrame(imputer.fit_transform(df_input), columns=feature_order)\n",
    "    dmat = xgb.DMatrix(df_input, feature_names=feature_order)\n",
    "    pred = booster.predict(dmat)[0]\n",
    "    st.metric(label=\"Cardio risk percentage\", value=f\"{pred:.2%}\")\n",
    "\n",
    "    # SHAP waterfall explanation\n",
    "    explainer = shap.Explainer(booster)\n",
    "    shap_values = explainer(df_input)\n",
    "\n",
    "    st.subheader(\"Biomarkers atribution\")\n",
    "    fig = shap.plots._waterfall.waterfall_legacy(shap_values[0], show=False)\n",
    "    st.pyplot(fig)\n"
   ]
  }
 ],
 "metadata": {
  "kernelspec": {
   "display_name": ".venv",
   "language": "python",
   "name": "python3"
  },
  "language_info": {
   "codemirror_mode": {
    "name": "ipython",
    "version": 3
   },
   "file_extension": ".py",
   "mimetype": "text/x-python",
   "name": "python",
   "nbconvert_exporter": "python",
   "pygments_lexer": "ipython3",
   "version": "3.13.3"
  }
 },
 "nbformat": 4,
 "nbformat_minor": 5
}
