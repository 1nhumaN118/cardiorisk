{
 "cells": [
  {
   "cell_type": "markdown",
   "id": "b0cddf17",
   "metadata": {},
   "source": [
    "#  Streamlit CardioRisk App\n",
    "This notebook defines a simple interactive Streamlit app for predicting cardiovascular risk from clinical input."
   ]
  },
  {
   "cell_type": "code",
   "execution_count": 3,
   "id": "61c507e3",
   "metadata": {},
   "outputs": [],
   "source": [
    "import streamlit as st\n",
    "import xgboost as xgb\n",
    "import joblib\n",
    "import pandas as pd\n",
    "from sklearn.impute import SimpleImputer\n",
    "import os\n"
   ]
  },
  {
   "cell_type": "code",
   "execution_count": 17,
   "id": "740c1beb",
   "metadata": {},
   "outputs": [],
   "source": [
    "# Load model and feature order\n",
    "MODEL_PATH = \"../src/models/tuned_xgb_fhir.pkl\"\n",
    "FEATURE_PATH = \"../src/models/fhir_feature_order.pkl\"\n",
    "\n",
    "booster = joblib.load(MODEL_PATH)\n",
    "feature_order = joblib.load(FEATURE_PATH)\n",
    "imputer = SimpleImputer(strategy=\"mean\")\n"
   ]
  },
  {
   "cell_type": "code",
   "execution_count": 20,
   "id": "0af12378",
   "metadata": {},
   "outputs": [
    {
     "name": "stderr",
     "output_type": "stream",
     "text": [
      "2025-05-11 19:04:31.876 Thread 'MainThread': missing ScriptRunContext! This warning can be ignored when running in bare mode.\n",
      "2025-05-11 19:04:31.877 Thread 'MainThread': missing ScriptRunContext! This warning can be ignored when running in bare mode.\n",
      "2025-05-11 19:04:31.878 Thread 'MainThread': missing ScriptRunContext! This warning can be ignored when running in bare mode.\n",
      "2025-05-11 19:04:31.880 Thread 'MainThread': missing ScriptRunContext! This warning can be ignored when running in bare mode.\n",
      "2025-05-11 19:04:31.881 Thread 'MainThread': missing ScriptRunContext! This warning can be ignored when running in bare mode.\n",
      "2025-05-11 19:04:31.883 Thread 'MainThread': missing ScriptRunContext! This warning can be ignored when running in bare mode.\n",
      "2025-05-11 19:04:31.884 Thread 'MainThread': missing ScriptRunContext! This warning can be ignored when running in bare mode.\n",
      "2025-05-11 19:04:31.884 Thread 'MainThread': missing ScriptRunContext! This warning can be ignored when running in bare mode.\n",
      "2025-05-11 19:04:31.885 Thread 'MainThread': missing ScriptRunContext! This warning can be ignored when running in bare mode.\n",
      "2025-05-11 19:04:31.886 Thread 'MainThread': missing ScriptRunContext! This warning can be ignored when running in bare mode.\n",
      "2025-05-11 19:04:31.888 Thread 'MainThread': missing ScriptRunContext! This warning can be ignored when running in bare mode.\n",
      "2025-05-11 19:04:31.889 Thread 'MainThread': missing ScriptRunContext! This warning can be ignored when running in bare mode.\n",
      "2025-05-11 19:04:31.890 Thread 'MainThread': missing ScriptRunContext! This warning can be ignored when running in bare mode.\n",
      "2025-05-11 19:04:31.891 Thread 'MainThread': missing ScriptRunContext! This warning can be ignored when running in bare mode.\n",
      "2025-05-11 19:04:31.892 Thread 'MainThread': missing ScriptRunContext! This warning can be ignored when running in bare mode.\n",
      "2025-05-11 19:04:31.893 Thread 'MainThread': missing ScriptRunContext! This warning can be ignored when running in bare mode.\n",
      "2025-05-11 19:04:31.894 Thread 'MainThread': missing ScriptRunContext! This warning can be ignored when running in bare mode.\n",
      "2025-05-11 19:04:31.895 Thread 'MainThread': missing ScriptRunContext! This warning can be ignored when running in bare mode.\n",
      "2025-05-11 19:04:31.896 Thread 'MainThread': missing ScriptRunContext! This warning can be ignored when running in bare mode.\n",
      "2025-05-11 19:04:31.897 Thread 'MainThread': missing ScriptRunContext! This warning can be ignored when running in bare mode.\n",
      "2025-05-11 19:04:31.898 Thread 'MainThread': missing ScriptRunContext! This warning can be ignored when running in bare mode.\n",
      "2025-05-11 19:04:31.899 Thread 'MainThread': missing ScriptRunContext! This warning can be ignored when running in bare mode.\n",
      "2025-05-11 19:04:31.900 Thread 'MainThread': missing ScriptRunContext! This warning can be ignored when running in bare mode.\n",
      "2025-05-11 19:04:31.901 Thread 'MainThread': missing ScriptRunContext! This warning can be ignored when running in bare mode.\n",
      "2025-05-11 19:04:31.902 Thread 'MainThread': missing ScriptRunContext! This warning can be ignored when running in bare mode.\n",
      "2025-05-11 19:04:31.903 Thread 'MainThread': missing ScriptRunContext! This warning can be ignored when running in bare mode.\n",
      "2025-05-11 19:04:31.904 Thread 'MainThread': missing ScriptRunContext! This warning can be ignored when running in bare mode.\n",
      "2025-05-11 19:04:31.905 Thread 'MainThread': missing ScriptRunContext! This warning can be ignored when running in bare mode.\n",
      "2025-05-11 19:04:31.906 Thread 'MainThread': missing ScriptRunContext! This warning can be ignored when running in bare mode.\n",
      "2025-05-11 19:04:31.907 Thread 'MainThread': missing ScriptRunContext! This warning can be ignored when running in bare mode.\n",
      "2025-05-11 19:04:31.908 Thread 'MainThread': missing ScriptRunContext! This warning can be ignored when running in bare mode.\n",
      "2025-05-11 19:04:31.909 Thread 'MainThread': missing ScriptRunContext! This warning can be ignored when running in bare mode.\n",
      "2025-05-11 19:04:31.911 Thread 'MainThread': missing ScriptRunContext! This warning can be ignored when running in bare mode.\n",
      "2025-05-11 19:04:31.912 Thread 'MainThread': missing ScriptRunContext! This warning can be ignored when running in bare mode.\n"
     ]
    }
   ],
   "source": [
    "st.title(\" CardioRisk Estimator\")\n",
    "st.markdown(\"Dự đoán nguy cơ mắc bệnh tim mạch trong 10 năm dựa trên chỉ số sinh học lâm sàng.\")\n",
    "\n",
    "# Input fields\n",
    "input_data = {}\n",
    "for feat in feature_order:\n",
    "    if feat == \"age\":\n",
    "        input_data[feat] = st.number_input(\"Tuổi\", 18, 120, 55)\n",
    "    elif \"BP\" in feat:\n",
    "        input_data[feat] = st.number_input(feat, 50, 250, 120)\n",
    "    elif \"chol\" in feat.lower():\n",
    "        input_data[feat] = st.number_input(feat, 100, 400, 200)\n",
    "    else:\n",
    "        input_data[feat] = st.number_input(feat, 30, 300, 100)\n"
   ]
  },
  {
   "cell_type": "code",
   "execution_count": 24,
   "id": "521e0885",
   "metadata": {},
   "outputs": [
    {
     "name": "stderr",
     "output_type": "stream",
     "text": [
      "2025-05-11 19:07:57.524 Thread 'MainThread': missing ScriptRunContext! This warning can be ignored when running in bare mode.\n",
      "2025-05-11 19:07:57.526 Thread 'MainThread': missing ScriptRunContext! This warning can be ignored when running in bare mode.\n",
      "2025-05-11 19:07:57.528 Thread 'MainThread': missing ScriptRunContext! This warning can be ignored when running in bare mode.\n",
      "2025-05-11 19:07:57.529 Thread 'MainThread': missing ScriptRunContext! This warning can be ignored when running in bare mode.\n",
      "2025-05-11 19:07:57.530 Thread 'MainThread': missing ScriptRunContext! This warning can be ignored when running in bare mode.\n"
     ]
    }
   ],
   "source": [
    "if st.button(\"🩺 Dự đoán nguy cơ\"):\n",
    "    df_input = pd.DataFrame([input_data])[feature_order]\n",
    "    df_input = pd.DataFrame(imputer.fit_transform(df_input), columns=feature_order)\n",
    "    dmat = xgb.DMatrix(df_input, feature_names=feature_order)\n",
    "    pred = booster.predict(dmat)[0]\n",
    "    st.metric(label=\"Xác suất nguy cơ bệnh tim\", value=f\"{pred:.2%}\")\n"
   ]
  }
 ],
 "metadata": {
  "kernelspec": {
   "display_name": ".venv",
   "language": "python",
   "name": "python3"
  },
  "language_info": {
   "codemirror_mode": {
    "name": "ipython",
    "version": 3
   },
   "file_extension": ".py",
   "mimetype": "text/x-python",
   "name": "python",
   "nbconvert_exporter": "python",
   "pygments_lexer": "ipython3",
   "version": "3.13.3"
  }
 },
 "nbformat": 4,
 "nbformat_minor": 5
}
