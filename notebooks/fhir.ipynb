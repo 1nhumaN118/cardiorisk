{
 "cells": [
  {
   "cell_type": "markdown",
   "id": "2f0d7702",
   "metadata": {},
   "source": [
    "#  FHIR Bulk Inference from HAPI Server\n",
    "Fetch real-world Observation data from [HAPI FHIR public test server](https://hapi.fhir.org/baseR4) and perform model inference."
   ]
  },
  {
   "cell_type": "code",
   "execution_count": null,
   "id": "e46ba767",
   "metadata": {},
   "outputs": [
    {
     "ename": "ModuleNotFoundError",
     "evalue": "No module named 'fhir.resources.fhirdate'",
     "output_type": "error",
     "traceback": [
      "\u001b[31m---------------------------------------------------------------------------\u001b[39m",
      "\u001b[31mModuleNotFoundError\u001b[39m                       Traceback (most recent call last)",
      "\u001b[36mCell\u001b[39m\u001b[36m \u001b[39m\u001b[32mIn[52]\u001b[39m\u001b[32m, line 6\u001b[39m\n\u001b[32m      4\u001b[39m \u001b[38;5;28;01mimport\u001b[39;00m\u001b[38;5;250m \u001b[39m\u001b[34;01mpandas\u001b[39;00m\u001b[38;5;250m \u001b[39m\u001b[38;5;28;01mas\u001b[39;00m\u001b[38;5;250m \u001b[39m\u001b[34;01mpd\u001b[39;00m\n\u001b[32m      5\u001b[39m \u001b[38;5;28;01mfrom\u001b[39;00m\u001b[38;5;250m \u001b[39m\u001b[34;01mfhir\u001b[39;00m\u001b[34;01m.\u001b[39;00m\u001b[34;01mresources\u001b[39;00m\u001b[34;01m.\u001b[39;00m\u001b[34;01mobservation\u001b[39;00m\u001b[38;5;250m \u001b[39m\u001b[38;5;28;01mimport\u001b[39;00m Observation\n\u001b[32m----> \u001b[39m\u001b[32m6\u001b[39m \u001b[38;5;28;01mfrom\u001b[39;00m\u001b[38;5;250m \u001b[39m\u001b[34;01mfhir\u001b[39;00m\u001b[34;01m.\u001b[39;00m\u001b[34;01mresources\u001b[39;00m\u001b[34;01m.\u001b[39;00m\u001b[34;01mfhirdate\u001b[39;00m\u001b[38;5;250m \u001b[39m\u001b[38;5;28;01mimport\u001b[39;00m FHIRDate\n\u001b[32m      7\u001b[39m \u001b[38;5;28;01mfrom\u001b[39;00m\u001b[38;5;250m \u001b[39m\u001b[34;01mfhir\u001b[39;00m\u001b[34;01m.\u001b[39;00m\u001b[34;01mresources\u001b[39;00m\u001b[34;01m.\u001b[39;00m\u001b[34;01mmeta\u001b[39;00m\u001b[38;5;250m \u001b[39m\u001b[38;5;28;01mimport\u001b[39;00m Meta\n\u001b[32m      8\u001b[39m \u001b[38;5;28;01mfrom\u001b[39;00m\u001b[38;5;250m \u001b[39m\u001b[34;01mfhir\u001b[39;00m\u001b[34;01m.\u001b[39;00m\u001b[34;01mresources\u001b[39;00m\u001b[34;01m.\u001b[39;00m\u001b[34;01mcodeableconcept\u001b[39;00m\u001b[38;5;250m \u001b[39m\u001b[38;5;28;01mimport\u001b[39;00m CodeableConcept\n",
      "\u001b[31mModuleNotFoundError\u001b[39m: No module named 'fhir.resources.fhirdate'"
     ]
    }
   ],
   "source": []
  },
  {
   "cell_type": "code",
   "execution_count": 53,
   "id": "4d44cd73",
   "metadata": {},
   "outputs": [],
   "source": [
    "# Sample Framingham-style data\n",
    "data = {\n",
    "    \"age\": [55, 60],\n",
    "    \"sysBP\": [140, 135],\n",
    "    \"diaBP\": [85, 90],\n",
    "    \"totChol\": [240, 230],\n",
    "    \"glucose\": [100, 110],\n",
    "    \"heartRate\": [70, 72]\n",
    "}\n",
    "df = pd.DataFrame(data)\n",
    "\n",
    "# LOINC mappings\n",
    "loinc_map = {\n",
    "    \"sysBP\": (\"8480-6\", \"Systolic blood pressure\", \"mmHg\"),\n",
    "    \"diaBP\": (\"8462-4\", \"Diastolic blood pressure\", \"mmHg\"),\n",
    "    \"totChol\": (\"2093-3\", \"Total Cholesterol\", \"mg/dL\"),\n",
    "    \"glucose\": (\"2345-7\", \"Glucose\", \"mg/dL\"),\n",
    "    \"heartRate\": (\"8867-4\", \"Heart rate\", \"beats/minute\"),\n",
    "    \"age\": (\"30525-0\", \"Age calculated\", \"years\")\n",
    "}\n",
    "\n",
    "# Output folder\n",
    "output_dir = \"/mnt/data/fhir_sim/observations\"\n",
    "os.makedirs(output_dir, exist_ok=True)"
   ]
  },
  {
   "cell_type": "code",
   "execution_count": 54,
   "id": "88831354",
   "metadata": {},
   "outputs": [
    {
     "name": "stderr",
     "output_type": "stream",
     "text": [
      "C:\\Users\\tranv\\AppData\\Local\\Temp\\ipykernel_16720\\3721412361.py:6: PydanticDeprecatedSince20: The `construct` method is deprecated; use `model_construct` instead. Deprecated in Pydantic V2.0 to be removed in V3.0. See Pydantic V2 Migration Guide at https://errors.pydantic.dev/2.11/migration/\n",
      "  obs = Observation.construct()\n"
     ]
    },
    {
     "ename": "ValidationError",
     "evalue": "1 validation error for Observation\nstatus\n  Value for the field 'status' is required. [type=model_field_validation.missing, input_value=None, input_type=NoneType]",
     "output_type": "error",
     "traceback": [
      "\u001b[31m---------------------------------------------------------------------------\u001b[39m",
      "\u001b[31mValidationError\u001b[39m                           Traceback (most recent call last)",
      "\u001b[36mCell\u001b[39m\u001b[36m \u001b[39m\u001b[32mIn[54]\u001b[39m\u001b[32m, line 7\u001b[39m\n\u001b[32m      5\u001b[39m code, display, unit = loinc_map[feature]\n\u001b[32m      6\u001b[39m obs = Observation.construct()\n\u001b[32m----> \u001b[39m\u001b[32m7\u001b[39m \u001b[43mobs\u001b[49m\u001b[43m.\u001b[49m\u001b[43mid\u001b[49m = \u001b[33mf\u001b[39m\u001b[33m\"\u001b[39m\u001b[38;5;132;01m{\u001b[39;00mpatient_id\u001b[38;5;132;01m}\u001b[39;00m\u001b[33m-\u001b[39m\u001b[38;5;132;01m{\u001b[39;00mfeature\u001b[38;5;132;01m}\u001b[39;00m\u001b[33m\"\u001b[39m\n\u001b[32m      8\u001b[39m obs.status = \u001b[33m\"\u001b[39m\u001b[33mfinal\u001b[39m\u001b[33m\"\u001b[39m\n\u001b[32m      9\u001b[39m obs.code = CodeableConcept.construct()\n",
      "\u001b[36mFile \u001b[39m\u001b[32mc:\\Users\\tranv\\OneDrive\\Documents\\1nhuman118\\git\\cardiorisk_2505\\notebooks\\.venv\\Lib\\site-packages\\pydantic\\main.py:996\u001b[39m, in \u001b[36mBaseModel.__setattr__\u001b[39m\u001b[34m(self, name, value)\u001b[39m\n\u001b[32m    994\u001b[39m \u001b[38;5;66;03m# if None is returned from _setattr_handler, the attribute was set directly\u001b[39;00m\n\u001b[32m    995\u001b[39m \u001b[38;5;28;01melif\u001b[39;00m (setattr_handler := \u001b[38;5;28mself\u001b[39m._setattr_handler(name, value)) \u001b[38;5;129;01mis\u001b[39;00m \u001b[38;5;129;01mnot\u001b[39;00m \u001b[38;5;28;01mNone\u001b[39;00m:\n\u001b[32m--> \u001b[39m\u001b[32m996\u001b[39m     \u001b[43msetattr_handler\u001b[49m\u001b[43m(\u001b[49m\u001b[38;5;28;43mself\u001b[39;49m\u001b[43m,\u001b[49m\u001b[43m \u001b[49m\u001b[43mname\u001b[49m\u001b[43m,\u001b[49m\u001b[43m \u001b[49m\u001b[43mvalue\u001b[49m\u001b[43m)\u001b[49m  \u001b[38;5;66;03m# call here to not memo on possibly unknown fields\u001b[39;00m\n\u001b[32m    997\u001b[39m     \u001b[38;5;28mself\u001b[39m.__pydantic_setattr_handlers__[name] = setattr_handler\n",
      "\u001b[36mFile \u001b[39m\u001b[32mc:\\Users\\tranv\\OneDrive\\Documents\\1nhuman118\\git\\cardiorisk_2505\\notebooks\\.venv\\Lib\\site-packages\\pydantic\\main.py:114\u001b[39m, in \u001b[36m<lambda>\u001b[39m\u001b[34m(model, name, val)\u001b[39m\n\u001b[32m    108\u001b[39m         \u001b[38;5;28mobject\u001b[39m.\u001b[34m__setattr__\u001b[39m(model, \u001b[33m'\u001b[39m\u001b[33m__pydantic_private__\u001b[39m\u001b[33m'\u001b[39m, {})\n\u001b[32m    109\u001b[39m     model.__pydantic_private__[name] = val  \u001b[38;5;66;03m# pyright: ignore[reportOptionalSubscript]\u001b[39;00m\n\u001b[32m    112\u001b[39m _SIMPLE_SETATTR_HANDLERS: Mapping[\u001b[38;5;28mstr\u001b[39m, Callable[[BaseModel, \u001b[38;5;28mstr\u001b[39m, Any], \u001b[38;5;28;01mNone\u001b[39;00m]] = {\n\u001b[32m    113\u001b[39m     \u001b[33m'\u001b[39m\u001b[33mmodel_field\u001b[39m\u001b[33m'\u001b[39m: _model_field_setattr_handler,\n\u001b[32m--> \u001b[39m\u001b[32m114\u001b[39m     \u001b[33m'\u001b[39m\u001b[33mvalidate_assignment\u001b[39m\u001b[33m'\u001b[39m: \u001b[38;5;28;01mlambda\u001b[39;00m model, name, val: \u001b[43mmodel\u001b[49m\u001b[43m.\u001b[49m\u001b[43m__pydantic_validator__\u001b[49m\u001b[43m.\u001b[49m\u001b[43mvalidate_assignment\u001b[49m\u001b[43m(\u001b[49m\u001b[43mmodel\u001b[49m\u001b[43m,\u001b[49m\u001b[43m \u001b[49m\u001b[43mname\u001b[49m\u001b[43m,\u001b[49m\u001b[43m \u001b[49m\u001b[43mval\u001b[49m\u001b[43m)\u001b[49m,  \u001b[38;5;66;03m# pyright: ignore[reportAssignmentType]\u001b[39;00m\n\u001b[32m    115\u001b[39m     \u001b[33m'\u001b[39m\u001b[33mprivate\u001b[39m\u001b[33m'\u001b[39m: _private_setattr_handler,\n\u001b[32m    116\u001b[39m     \u001b[33m'\u001b[39m\u001b[33mcached_property\u001b[39m\u001b[33m'\u001b[39m: \u001b[38;5;28;01mlambda\u001b[39;00m model, name, val: model.\u001b[34m__dict__\u001b[39m.\u001b[34m__setitem__\u001b[39m(name, val),\n\u001b[32m    117\u001b[39m     \u001b[33m'\u001b[39m\u001b[33mextra_known\u001b[39m\u001b[33m'\u001b[39m: \u001b[38;5;28;01mlambda\u001b[39;00m model, name, val: _object_setattr(model, name, val),\n\u001b[32m    118\u001b[39m }\n\u001b[32m    121\u001b[39m \u001b[38;5;28;01mclass\u001b[39;00m\u001b[38;5;250m \u001b[39m\u001b[34;01mBaseModel\u001b[39;00m(metaclass=_model_construction.ModelMetaclass):\n\u001b[32m    122\u001b[39m \u001b[38;5;250m    \u001b[39m\u001b[33;03m\"\"\"!!! abstract \"Usage Documentation\"\u001b[39;00m\n\u001b[32m    123\u001b[39m \u001b[33;03m        [Models](../concepts/models.md)\u001b[39;00m\n\u001b[32m    124\u001b[39m \n\u001b[32m   (...)\u001b[39m\u001b[32m    151\u001b[39m \u001b[33;03m        __pydantic_private__: Values of private attributes set on the model instance.\u001b[39;00m\n\u001b[32m    152\u001b[39m \u001b[33;03m    \"\"\"\u001b[39;00m\n",
      "\u001b[31mValidationError\u001b[39m: 1 validation error for Observation\nstatus\n  Value for the field 'status' is required. [type=model_field_validation.missing, input_value=None, input_type=NoneType]"
     ]
    }
   ],
   "source": [
    "# Generate fake FHIR Observation JSONs\n",
    "for idx, row in df.iterrows():\n",
    "    patient_id = f\"Patient-{1000 + idx}\"\n",
    "    for feature, value in row.items():\n",
    "        code, display, unit = loinc_map[feature]\n",
    "        obs = Observation.construct()\n",
    "        obs.id = f\"{patient_id}-{feature}\"\n",
    "        obs.status = \"final\"\n",
    "        obs.code = CodeableConcept.construct()\n",
    "        obs.code.coding = [Coding.construct(system=\"http://loinc.org\", code=code, display=display)]\n",
    "        obs.subject = FHIRReference.construct(reference=patient_id)\n",
    "        obs.effectiveDateTime = FHIRDate(datetime.utcnow().isoformat())\n",
    "        obs.valueQuantity = Quantity.construct(value=value, unit=unit, system=\"http://unitsofmeasure.org\", code=unit)\n",
    "        obs.meta = Meta.construct(profile=[\"http://hl7.org/fhir/StructureDefinition/Observation\"])\n",
    "\n",
    "        # Save\n",
    "        output_path = os.path.join(output_dir, f\"{obs.id}.json\")\n",
    "        with open(output_path, \"w\") as f:\n",
    "            f.write(obs.json(indent=2))\n",
    "\n",
    "output_dir"
   ]
  }
 ],
 "metadata": {
  "kernelspec": {
   "display_name": ".venv",
   "language": "python",
   "name": "python3"
  },
  "language_info": {
   "codemirror_mode": {
    "name": "ipython",
    "version": 3
   },
   "file_extension": ".py",
   "mimetype": "text/x-python",
   "name": "python",
   "nbconvert_exporter": "python",
   "pygments_lexer": "ipython3",
   "version": "3.13.3"
  }
 },
 "nbformat": 4,
 "nbformat_minor": 5
}
